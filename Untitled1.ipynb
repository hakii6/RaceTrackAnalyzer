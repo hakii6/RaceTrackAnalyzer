{
 "cells": [
  {
   "cell_type": "code",
   "execution_count": 26,
   "metadata": {},
   "outputs": [
    {
     "name": "stdout",
     "output_type": "stream",
     "text": [
      "https://firestore.googleapis.com/google.firestore.v1.Firestore/Listen/channel?database=projects/walkthrough-tool/databases/(default)&VER=8&gsessionid=opfc0go0jAoo48SFKUrZV7RTHybL7mGI&SID=inJX7lnIbslzlSscOteaAQ&RID=67770&AID=1840&zx=61szqt9c2olv&t=1\n",
      "ParseResult(scheme='https', netloc='firestore.googleapis.com', path='/google.firestore.v1.Firestore/Listen/channel', params='', query='database=projects%2Fwalkthrough-tool%2Fdatabases%2F(default)&VER=8&gsessionid=opfc0go0jAoo48SFKUrZV7RTHybL7mGI&SID=inJX7lnIbslzlSscOteaAQ&RID=67770&AID=1840&zx=61szqt9c2olv&t=1', fragment='')\n"
     ]
    }
   ],
   "source": [
    "import json\n",
    "# import codecs\n",
    "import base64\n",
    "import csv\n",
    "import requests\n",
    "import urllib.parse\n",
    "from bs4 import BeautifulSoup\n",
    "from urllib.parse import urljoin\n",
    "from urllib.parse import unquote\n",
    "import datetime\n",
    "\n",
    "\n",
    "\n",
    "\n",
    "\n",
    "\n",
    "\n",
    "url =\"https://firestore.googleapis.com/google.firestore.v1.Firestore/Listen/channel?database=projects%2Fwalkthrough-tool%2Fdatabases%2F(default)&VER=8&gsessionid=opfc0go0jAoo48SFKUrZV7RTHybL7mGI&SID=inJX7lnIbslzlSscOteaAQ&RID=67770&AID=1840&zx=61szqt9c2olv&t=1\"\n",
    "print(unquote(url))\n",
    "\n",
    "parsed = urllib.parse.urlparse(url)\n",
    "\n",
    "print(parsed)\n",
    "\n",
    "# print(base64.b64decode(url))\n",
    "\n",
    "# print(url.decode('utf8'))\n",
    "\n",
    "\n",
    "# req = requests.post('https://firestore.googleapis.com/google.firestore.v1.Firestore/Listen/channel?database=projects%2Fwalkthrough-tool%2Fdatabases%2F(default)&VER=8&gsessionid=opfc0go0jAoo48SFKUrZV7RTHybL7mGI&SID=inJX7lnIbslzlSscOteaAQ&RID=67770&AID=1840&zx=61szqt9c2olv&t=1')\n",
    "# req.encoding = 'utf-8'\n",
    "# cards = req.text\n",
    "\n",
    "# print(cards)\n",
    "\n",
    "# print(req.content)"
   ]
  }
 ],
 "metadata": {
  "kernelspec": {
   "display_name": "Python 3",
   "language": "python",
   "name": "python3"
  },
  "language_info": {
   "codemirror_mode": {
    "name": "ipython",
    "version": 3
   },
   "file_extension": ".py",
   "mimetype": "text/x-python",
   "name": "python",
   "nbconvert_exporter": "python",
   "pygments_lexer": "ipython3",
   "version": "3.7.6"
  }
 },
 "nbformat": 4,
 "nbformat_minor": 4
}
